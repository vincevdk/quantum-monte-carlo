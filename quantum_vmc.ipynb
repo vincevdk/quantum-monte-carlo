{
 "cells": [
  {
   "cell_type": "code",
   "execution_count": 48,
   "metadata": {},
   "outputs": [
    {
     "ename": "TypeError",
     "evalue": "'function' object does not support item assignment",
     "output_type": "error",
     "traceback": [
      "\u001b[0;31m---------------------------------------------------------------------------\u001b[0m",
      "\u001b[0;31mTypeError\u001b[0m                                 Traceback (most recent call last)",
      "\u001b[0;32m<ipython-input-48-b3f79d2cd1e3>\u001b[0m in \u001b[0;36m<module>\u001b[0;34m\u001b[0m\n\u001b[1;32m     71\u001b[0m \u001b[0;31m## run program\u001b[0m\u001b[0;34m\u001b[0m\u001b[0;34m\u001b[0m\u001b[0;34m\u001b[0m\u001b[0m\n\u001b[1;32m     72\u001b[0m \u001b[0;34m\u001b[0m\u001b[0m\n\u001b[0;32m---> 73\u001b[0;31m \u001b[0mE_ground\u001b[0m\u001b[0;34m,\u001b[0m \u001b[0mvariance\u001b[0m \u001b[0;34m=\u001b[0m \u001b[0mvmc\u001b[0m\u001b[0;34m(\u001b[0m\u001b[0;34m)\u001b[0m\u001b[0;34m\u001b[0m\u001b[0;34m\u001b[0m\u001b[0m\n\u001b[0m\u001b[1;32m     74\u001b[0m \u001b[0mmetro\u001b[0m \u001b[0;34m=\u001b[0m \u001b[0mmetropolis_algorithm\u001b[0m\u001b[0;34m(\u001b[0m\u001b[0mN\u001b[0m\u001b[0;34m,\u001b[0m\u001b[0;36m0.4\u001b[0m\u001b[0;34m)\u001b[0m\u001b[0;34m\u001b[0m\u001b[0;34m\u001b[0m\u001b[0m\n\u001b[1;32m     75\u001b[0m \u001b[0;34m\u001b[0m\u001b[0m\n",
      "\u001b[0;32m<ipython-input-48-b3f79d2cd1e3>\u001b[0m in \u001b[0;36mvmc\u001b[0;34m()\u001b[0m\n\u001b[1;32m     42\u001b[0m         \u001b[0mE_loc\u001b[0m\u001b[0;34m[\u001b[0m\u001b[0;34m:\u001b[0m\u001b[0;34m,\u001b[0m\u001b[0mi\u001b[0m\u001b[0;34m]\u001b[0m \u001b[0;34m=\u001b[0m \u001b[0mlocal_energy\u001b[0m\u001b[0;34m(\u001b[0m\u001b[0malpha\u001b[0m\u001b[0;34m[\u001b[0m\u001b[0mi\u001b[0m\u001b[0;34m]\u001b[0m\u001b[0;34m,\u001b[0m \u001b[0mprob_dens\u001b[0m\u001b[0;34m)\u001b[0m\u001b[0;34m\u001b[0m\u001b[0;34m\u001b[0m\u001b[0m\n\u001b[1;32m     43\u001b[0m         \u001b[0mE\u001b[0m\u001b[0;34m[\u001b[0m\u001b[0mi\u001b[0m\u001b[0;34m]\u001b[0m \u001b[0;34m=\u001b[0m \u001b[0mexpectation_value\u001b[0m\u001b[0;34m(\u001b[0m\u001b[0mE_loc\u001b[0m\u001b[0;34m[\u001b[0m\u001b[0;34m:\u001b[0m\u001b[0;34m,\u001b[0m\u001b[0mi\u001b[0m\u001b[0;34m]\u001b[0m\u001b[0;34m)\u001b[0m\u001b[0;34m\u001b[0m\u001b[0;34m\u001b[0m\u001b[0m\n\u001b[0;32m---> 44\u001b[0;31m         \u001b[0mvariance\u001b[0m\u001b[0;34m[\u001b[0m\u001b[0mi\u001b[0m\u001b[0;34m]\u001b[0m \u001b[0;34m=\u001b[0m \u001b[0mvariance\u001b[0m\u001b[0;34m(\u001b[0m\u001b[0mE_loc\u001b[0m\u001b[0;34m[\u001b[0m\u001b[0;34m:\u001b[0m\u001b[0;34m,\u001b[0m\u001b[0mi\u001b[0m\u001b[0;34m]\u001b[0m\u001b[0;34m)\u001b[0m\u001b[0;34m\u001b[0m\u001b[0;34m\u001b[0m\u001b[0m\n\u001b[0m\u001b[1;32m     45\u001b[0m \u001b[0;34m\u001b[0m\u001b[0m\n\u001b[1;32m     46\u001b[0m     \u001b[0;32mreturn\u001b[0m\u001b[0;34m(\u001b[0m\u001b[0mE\u001b[0m\u001b[0;34m,\u001b[0m \u001b[0mvariance\u001b[0m\u001b[0;34m)\u001b[0m\u001b[0;34m\u001b[0m\u001b[0;34m\u001b[0m\u001b[0m\n",
      "\u001b[0;31mTypeError\u001b[0m: 'function' object does not support item assignment"
     ]
    }
   ],
   "source": [
    "import numpy as np\n",
    "import matplotlib.pyplot as plt\n",
    "import scipy.integrate as integrate\n",
    "\n",
    "## variational quantum monte carlo simulation\n",
    "\n",
    "## initialize\n",
    "\n",
    "N = 100000\n",
    "alpha = np.arange(0.1, 2, 0.05)\n",
    "sigma = 1/np.sqrt(4*alpha)\n",
    "\n",
    "E_loc = np.zeros([N,len(sigma)])\n",
    "E = np.zeros([len(sigma)])\n",
    "variance = np.zeros([len(sigma)])\n",
    "\n",
    "\n",
    "\n",
    "def dens_function(alpha, x):\n",
    "    density = np.sqrt(alpha/np.pi)*np.sqrt(alpha/np.pi)*np.exp(-2*alpha*x**2)\n",
    "    return(density)\n",
    "\n",
    "def local_energy(alpha,x):\n",
    "    E_loc = alpha + (x**2)*(0.5-2*alpha**2)\n",
    "    return(E_loc)\n",
    "\n",
    "def normal_dis(sigma):\n",
    "    prob_dens = np.random.normal(0, sigma, N)\n",
    "    return(prob_dens)\n",
    "    \n",
    "def expectation_value(E_loc):\n",
    "    E = (1/N)*np.sum(E_loc)\n",
    "    return(E)\n",
    "\n",
    "def variance(E_loc):\n",
    "    variance = (1/N)*np.sum(E_loc**2) - ((1/N)*np.sum(E_loc))**2\n",
    "    return(variance)\n",
    "\n",
    "def vmc():\n",
    "    for i in range(len(sigma)):\n",
    "        prob_dens = normal_dis(sigma[i])\n",
    "        E_loc[:,i] = local_energy(alpha[i], prob_dens)\n",
    "        E[i] = expectation_value(E_loc[:,i])\n",
    "        variance[i] = variance(E_loc[:,i])\n",
    "        \n",
    "    return(E, variance)\n",
    "\n",
    "def metropolis_algorithm(N, alpha):\n",
    "    x = np.zeros(N)\n",
    "    x[0] = 0.1\n",
    "    h = 1/1000\n",
    "    eta = np.random.uniform(0,1)\n",
    "    t = 0\n",
    "    for i in range(len(x)):\n",
    "        x_trial = np.random.uniform(-h/2, h/2)\n",
    "        x_trial = x[i-1] + x_trial\n",
    "        r = dens_function(alpha, x_trial)/dens_function(alpha, x[i])\n",
    "        if r >= 1:\n",
    "            t = t + 1\n",
    "            x[i] = x_trial\n",
    "        else:\n",
    "            if eta < r:\n",
    "                x[i] = x_trial\n",
    "            else:\n",
    "                x[i] = x[i-1]\n",
    "    acceptance_ratio = t/len(x)\n",
    "    print(acceptance_ratio)\n",
    "    \n",
    "    return(x)\n",
    "\n",
    "## run program\n",
    "\n",
    "E_ground, variance = vmc()\n",
    "metro = metropolis_algorithm(N,0.4)\n",
    "\n",
    "\n",
    "## plots\n",
    "\n",
    "plt.figure()\n",
    "plt.plot(alpha, E_ground)\n",
    "\n",
    "plt.figure()\n",
    "plt.plot(alpha, variance)\n",
    "\n",
    "\n",
    "## histogram probability distribution function\n",
    "alpha = 0.4\n",
    "sigma = 1/np.sqrt(4*alpha)\n",
    "density = normal_dis(sigma)\n",
    "\n",
    "plt.figure()\n",
    "count, bins, ignored = plt.hist(density, 30, density=True)\n",
    "plt.plot(bins, 1/(sigma * np.sqrt(2 * np.pi)) *\n",
    "np.exp( - (bins)**2 / (2 * sigma**2) ),linewidth=2, color='r')\n",
    "plt.show()\n",
    "\n",
    "\n",
    "    \n",
    "\n",
    "\n",
    "\n",
    "\n",
    "    \n",
    "    \n"
   ]
  },
  {
   "cell_type": "code",
   "execution_count": 31,
   "metadata": {},
   "outputs": [
    {
     "name": "stdout",
     "output_type": "stream",
     "text": [
      "1.0\n"
     ]
    }
   ],
   "source": []
  },
  {
   "cell_type": "code",
   "execution_count": null,
   "metadata": {},
   "outputs": [],
   "source": [
    "\n",
    "\n",
    "\n",
    "\n",
    "  "
   ]
  },
  {
   "cell_type": "code",
   "execution_count": null,
   "metadata": {},
   "outputs": [],
   "source": []
  }
 ],
 "metadata": {
  "kernelspec": {
   "display_name": "Python 3",
   "language": "python",
   "name": "python3"
  },
  "language_info": {
   "codemirror_mode": {
    "name": "ipython",
    "version": 3
   },
   "file_extension": ".py",
   "mimetype": "text/x-python",
   "name": "python",
   "nbconvert_exporter": "python",
   "pygments_lexer": "ipython3",
   "version": "3.6.7"
  }
 },
 "nbformat": 4,
 "nbformat_minor": 2
}
