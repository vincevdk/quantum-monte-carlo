{
 "cells": [
  {
   "cell_type": "code",
   "execution_count": 22,
   "metadata": {},
   "outputs": [
    {
     "data": {
      "text/plain": [
       "[<matplotlib.lines.Line2D at 0x7f21ffcbb4a8>]"
      ]
     },
     "execution_count": 22,
     "metadata": {},
     "output_type": "execute_result"
    },
    {
     "data": {
      "image/png": "[encoded data removed]",
      "text/plain": [
       "<Figure size 432x288 with 1 Axes>"
      ]
     },
     "metadata": {
      "needs_background": "light"
     },
     "output_type": "display_data"
    }
   ],
   "source": [
    "import numpy as np\n",
    "import matplotlib.pyplot as plt\n",
    "\n",
    "\n",
    "def markovChain(alpha ,N, M):\n",
    "    \"\"\"\n",
    "    Creates a Markov chain sampled with the square of the trial wave function with a as extra input parameter.\n",
    "    Samples are d-dimensional. Chain is N samples long and for M walkers.\n",
    "\n",
    "    :param trialFunction: The trial wave function used to sample the chain. Should have two input parameters: a position x and a\n",
    "    :param a: A parameter of the trial wave function. Usually a constant\n",
    "    :param N: Length of the chain\n",
    "    :param d: Dimension of the samples \n",
    "    :param M: Number of different walkers\n",
    "    :returns: A matrix of N x M x d. \n",
    "    \"\"\"\n",
    "    d = 6\n",
    "    r = np.random.randn(d, M) \n",
    "    samples = np.empty([d, N, M])\n",
    "    p = trial_wave_function(alpha, r)**2\n",
    "    acor = np.zeros((N,1))\n",
    "    for i in range(0,N):\n",
    "        rn = r + 0.1*np.random.randn(d, M)\n",
    "        pn = trial_wave_function(alpha, r)**2\n",
    "    \n",
    "        u = np.random.rand(M)\n",
    "        u[pn >= p] = 100\n",
    "        p[pn >= p] = pn[pn >= p]\n",
    "        r[:,pn >= p] = rn[:,pn >= p]\n",
    "        p[u < pn/p] = pn[u < pn/p]\n",
    "        r[:,u < pn/p] = rn[:,u < pn/p]\n",
    "            \n",
    "        samples[:,i,:] =  r\n",
    "\n",
    "    #samples = np.array(samples)\n",
    "    return samples\n",
    "\n",
    "\n",
    "\n",
    "def six_d_metropolis(alpha, N, n_walkers):\n",
    "    rn = np.zeros((dim, N, n_walkers))\n",
    "    r = np.random.randn(dim, n_walkers)\n",
    "    \n",
    "    for i in range(N):\n",
    "        r_trial = r + (0.1*np.random.randn(dim, n_walkers))\n",
    "        ratio = (trial_wave_function(alpha, r_trial) / trial_wave_function(alpha, r))**2\n",
    "        eta = np.random.uniform(0,1,(dim,n_walkers))\n",
    "        rn[:,i,:] = np.where(ratio >= 1, r_trial, (np.where(eta < ratio, r_trial, r)))\n",
    "        r = np.where(ratio >= 1, r_trial, (np.where(eta < ratio, r_trial, r)))\n",
    "\n",
    "    return(rn)\n",
    "\n",
    "def trial_wave_function(alpha, r):\n",
    "    r1 = np.linalg.norm(r[:3,:], axis = 0)\n",
    "    r2 = np.linalg.norm(r[3:,:], axis = 0)\n",
    "    r12 = np.linalg.norm(r[:3,:]-r[3:,:], axis = 0)\n",
    "    trial_wave = np.exp(-2*r1 - 2*r2 + r12/(2*(1+alpha*r12)))\n",
    "    return(trial_wave)\n",
    "\n",
    "def calc_Eloc(alpha, r):\n",
    "    r1_unit = r[:3,:,:] / np.linalg.norm(r[:3,:,:], axis = 0)\n",
    "    r2_unit = r[3:,:,:] / np.linalg.norm(r[3:,:,:], axis = 0)\n",
    "    r12_unit = r1_unit - r2_unit\n",
    "    r12 = np.linalg.norm(r[:3,:,:] - r[3:,:,:], axis = 0)\n",
    "    E_loc = -4 + np.sum(r12_unit * (r[:3,:,:] - r[3:,:,:]), axis = 0) * 1/(r12*(1+alpha*r12)**2) - 1/(r12*(1+alpha*r12)**3) - 1/(4*(1+alpha*r12)**4) + 1/r12\n",
    "    return(E_loc)\n",
    "\n",
    "alpha = np.linspace(0.05, 0.25, 6)\n",
    "dim = 6\n",
    "E_local = np.zeros(len(alpha))\n",
    "E = np.zeros(len(alpha))\n",
    "k = 4000\n",
    "\n",
    "for i in range(len(alpha)):\n",
    "    r = six_d_metropolis(alpha[i], 30000, 300)\n",
    "    #r = markovChain(alpha[i], 10000, 5)\n",
    "    E_local = calc_Eloc(alpha[i], r)\n",
    "    E_local = E_local[k:]\n",
    "    E[i] = np.mean(E_local)\n",
    "\n",
    "plt.figure()\n",
    "plt.plot(alpha, E)\n",
    "    \n",
    "\n",
    "\n",
    "\n"
   ]
  },
  {
   "cell_type": "code",
   "execution_count": 21,
   "metadata": {},
   "outputs": [
    {
     "name": "stdout",
     "output_type": "stream",
     "text": [
      "-2.87066512459\n"
     ]
    }
   ],
   "source": [
    "print(E[0])"
   ]
  },
  {
   "cell_type": "code",
   "execution_count": null,
   "metadata": {},
   "outputs": [],
   "source": []
  }
 ],
 "metadata": {
  "kernelspec": {
   "display_name": "Python 3",
   "language": "python",
   "name": "python3"
  },
  "language_info": {
   "codemirror_mode": {
    "name": "ipython",
    "version": 3
   },
   "file_extension": ".py",
   "mimetype": "text/x-python",
   "name": "python",
   "nbconvert_exporter": "python",
   "pygments_lexer": "ipython3",
   "version": "3.6.7"
  }
 },
 "nbformat": 4,
 "nbformat_minor": 2
}
