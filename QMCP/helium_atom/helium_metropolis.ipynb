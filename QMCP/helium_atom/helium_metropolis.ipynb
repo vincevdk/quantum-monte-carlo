{
 "cells": [
  {
   "cell_type": "code",
   "execution_count": 83,
   "metadata": {},
   "outputs": [
    {
     "name": "stdout",
     "output_type": "stream",
     "text": [
      "(1000, 3)\n"
     ]
    }
   ],
   "source": [
    "import numpy as np\n",
    "from QMCP.functions import vmc\n",
    "import matplotlib.pyplot as plt\n",
    "\n",
    "\n",
    "def function(alpha, r1, r2, r):\n",
    "    func = np.exp(-2*r1 - 2*r2 + r/(2*(1+alpha*r)))\n",
    "    return(func)\n",
    "\n",
    "def six_d_metropolis(N, n_walkers):\n",
    "    \n",
    "    x = np.zeros((2,N,n_walkers))\n",
    "    displacement = np.random.rand(2,dim,n_walkers)\n",
    "    x[:,0,:] = np.linalg.norm(displacement, axis = 1)\n",
    "    \n",
    "    for i in range(N):\n",
    "        trial_displacement = displacement + (0.2*(np.random.rand(2,dim,n_walkers)*4-2))\n",
    "        x_trial_0 = np.linalg.norm(trial_displacement[0,:,:], axis=1)\n",
    "        x_trial_1 = np.linalg.norm(trial_displacement[1,:,:], axis=1)\n",
    "        x_trial_difference = abs(x_trial_0 - x_trial_1)\n",
    "        r = function(alpha, x_trial_0, x_trial_1, x_trial_difference)/function(alpha, x[0,i-1,:], x[1,i-1,:], abs(x[0,i-1,:]-x[1,i-1,:]))\n",
    "        eta = np.random.uniform(0,1,size = n_walkers)\n",
    "        x[0,i,:] = np.where(r >= 1, x_trial_0, (np.where(eta < r, x_trial_0, x[0,i-1,:]))) \n",
    "        x[1,i,:] = np.where(r >= 1, x_trial_1, (np.where(eta < r, x_trial_1, x[0,i-1,:]))) \n",
    "        displacement = np.where(r>=1, trial_displacement,(np.where(eta < r, trial_displacement, displacement)))\n",
    "        \n",
    "    x0 = np.reshape(x[0,1000:,:], n_walkers*N - (n_walkers * 1000))\n",
    "    x1 = np.reshape(x[1,1000:,:], n_walkers*N - (n_walkers * 1000))\n",
    "    \n",
    "    x0, x1 = np.where(abs(x)<0.005, 0.1 , x)\n",
    "    return(x0, x1)\n",
    "\n",
    "walker1, walker2 = six_d_metropolis(1000,3)\n"
   ]
  },
  {
   "cell_type": "code",
   "execution_count": 75,
   "metadata": {},
   "outputs": [
    {
     "name": "stdout",
     "output_type": "stream",
     "text": [
      "[[[ 0.72010346  0.05385149]\n",
      "  [ 0.15095108  0.7168054 ]]\n",
      "\n",
      " [[ 0.64139514  0.76488577]\n",
      "  [ 0.61011162  0.09903975]]]\n",
      "10\n",
      "[[[ 0.15095108  0.7168054 ]]\n",
      "\n",
      " [[ 0.61011162  0.09903975]]]\n",
      "[ 0.72010346  0.05385149  0.15095108  0.7168054   0.64139514  0.76488577\n",
      "  0.61011162  0.09903975]\n"
     ]
    }
   ],
   "source": [
    "x = np.random.rand(2,2,2)\n",
    "print(x)\n",
    "print(10)\n",
    "print(x[:,1:,:])\n",
    "x = np.reshape(x, 8)\n",
    "print(x)"
   ]
  },
  {
   "cell_type": "code",
   "execution_count": 40,
   "metadata": {},
   "outputs": [
    {
     "name": "stdout",
     "output_type": "stream",
     "text": [
      "[]\n"
     ]
    }
   ],
   "source": []
  },
  {
   "cell_type": "code",
   "execution_count": null,
   "metadata": {},
   "outputs": [],
   "source": []
  }
 ],
 "metadata": {
  "kernelspec": {
   "display_name": "Python 3",
   "language": "python",
   "name": "python3"
  },
  "language_info": {
   "codemirror_mode": {
    "name": "ipython",
    "version": 3
   },
   "file_extension": ".py",
   "mimetype": "text/x-python",
   "name": "python",
   "nbconvert_exporter": "python",
   "pygments_lexer": "ipython3",
   "version": "3.6.7"
  }
 },
 "nbformat": 4,
 "nbformat_minor": 2
}
