{
 "cells": [
  {
   "cell_type": "code",
   "execution_count": 85,
   "metadata": {},
   "outputs": [
    {
     "data": {
      "text/plain": [
       "[<matplotlib.lines.Line2D at 0x7fc5fbf97390>]"
      ]
     },
     "execution_count": 85,
     "metadata": {},
     "output_type": "execute_result"
    },
    {
     "data": {
      "image/png": "[encoded data removed]",
      "text/plain": [
       "<Figure size 432x288 with 1 Axes>"
      ]
     },
     "metadata": {
      "needs_background": "light"
     },
     "output_type": "display_data"
    }
   ],
   "source": [
    "import numpy as np\n",
    "from QMCP.functions import vmc, expectation_value\n",
    "import matplotlib.pyplot as plt\n",
    "\n",
    "\n",
    "def function(alpha, r1, r2, r):\n",
    "    return(np.exp(-2*r1 - 2*r2 + r/(2*(1+alpha*r))))\n",
    "\n",
    "def E_loc(alpha, r1_unit, r2_unit, r1_r2, r):\n",
    "    return(-4 + np.linalg.norm((r1_unit - r2_unit) * r1_r2, axis = 0) * 1/(r*(1+alpha*r)**2) - 1/(r*(1+alpha*r)**3) - 1/(4*(1+alpha*r)**4) + 1/r)\n",
    "\n",
    "def six_d_metropolis(alpha, N, n_walkers):\n",
    "    \n",
    "    x = np.zeros((2,N,n_walkers))\n",
    "    xyz0 = np.zeros((dim,N,n_walkers))\n",
    "    xyz1 = np.zeros((dim,N,n_walkers))\n",
    "    #xyz1 = np.zeros((dim,n_walkers,N))\n",
    "    xyz0[:,0,:] = np.random.rand(dim,n_walkers)\n",
    "    xyz1[:,0,:] = np.random.rand(dim,n_walkers)\n",
    "    x[0,0,:] = np.linalg.norm(xyz0[:,0,:], axis = 0)\n",
    "    x[1,0,:] = np.linalg.norm(xyz1[:,0,:], axis = 0)\n",
    "    trial_displacement = np.zeros((2,dim,n_walkers))\n",
    "    \n",
    "    for i in range(N):\n",
    "        xyz_trial_0 = xyz0[:,i,:] + (0.2*(np.random.rand(dim,n_walkers)*4-2))\n",
    "        xyz_trial_1 = xyz1[:,i,:] + (0.2*(np.random.rand(dim,n_walkers)*4-2))\n",
    "        r0 = np.linalg.norm(xyz_trial_0, axis=0)\n",
    "        r1 = np.linalg.norm(xyz_trial_1, axis=0)\n",
    "        r_12 = np.linalg.norm(xyz_trial_0 - xyz_trial_1, axis = 0)\n",
    "        ratio = function(alpha, r0, r1, r_12) / function(alpha, x[0,i-1,:], x[1,i-1,:], np.linalg.norm(xyz0[:,i,:]-xyz1[:,i,:], axis = 0))\n",
    "        eta = np.random.uniform(0,1,size = n_walkers)\n",
    "        x[0,i,:] = np.where(ratio >= 1, r0, (np.where(eta < ratio, r0, x[0,i-1,:]))) \n",
    "        x[1,i,:] = np.where(ratio >= 1, r1, (np.where(eta < ratio, r1, x[0,i-1,:]))) \n",
    "        xyz0[:,i,:] = np.where(ratio >= 1, xyz_trial_0,(np.where(eta < ratio, xyz_trial_0, xyz0[:,i-1,:])))\n",
    "        xyz1[:,i,:] = np.where(ratio >= 1, xyz_trial_1,(np.where(eta < ratio, xyz_trial_1, xyz1[:,i-1,:])))\n",
    "        \n",
    "    r_0 = np.reshape(x[0,1000:,:], n_walkers*N - (n_walkers * 1000))\n",
    "    r_1 = np.reshape(x[1,1000:,:], n_walkers*N - (n_walkers * 1000))\n",
    "    xyz0 = np.reshape(xyz0[:,1000:,:], (3,n_walkers*N - (n_walkers * 1000)) )\n",
    "    xyz1 = np.reshape(xyz1[:,1000:,:], (3,n_walkers*N - (n_walkers * 1000)) )\n",
    "   \n",
    "    r_0 = np.where(abs(r_0)<0.005, 0.1 , r_0)\n",
    "    r_1 = np.where(abs(r_1)<0.005, 0.1 , r_1)\n",
    "    return(r_0, r_1, xyz0, xyz1)\n",
    "\n",
    "def calc_unit_vecors(r0, r1):\n",
    "    r0_unit = r0 / np.linalg.norm(xyz_0, axis = 0)\n",
    "    r1_unit = r1 / np.linalg.norm(xyz_1, axis = 0)\n",
    "    return(r0_unit, r1_unit)\n",
    "    \n",
    "def calc_diff_vectors(r0, r1):\n",
    "    r1_r2 = r0 - r1\n",
    "    r12 = np.linalg.norm(r1_r2, axis = 0)\n",
    "    return(r1_r2, r12)\n",
    "\n",
    "\n",
    "alpha = np.linspace(0.05, 0.25, 10)\n",
    "dim = 3\n",
    "E_local = np.zeros(len(alpha))\n",
    "E = np.zeros(len(alpha))\n",
    "\n",
    "for i in range(len(alpha)):\n",
    "    r_0, r_1, xyz_0, xyz_1 = six_d_metropolis(alpha[i], 5000 ,5)\n",
    "    r0_unit, r1_unit = calc_unit_vecors(xyz_0, xyz_1)\n",
    "    r1_r2, r12 = calc_diff_vectors(r_0, r_1)\n",
    "    E_local = E_loc(alpha[i], r0_unit, r1_unit, r1_r2, r12)\n",
    "    E[i] = expectation_value(E_local)\n",
    "\n",
    "    \n",
    "plt.figure()\n",
    "plt.plot(alpha, E)\n"
   ]
  },
  {
   "cell_type": "code",
   "execution_count": 75,
   "metadata": {},
   "outputs": [
    {
     "ename": "TypeError",
     "evalue": "six_d_metropolis() takes 2 positional arguments but 3 were given",
     "output_type": "error",
     "traceback": [
      "\u001b[0;31m---------------------------------------------------------------------------\u001b[0m",
      "\u001b[0;31mTypeError\u001b[0m                                 Traceback (most recent call last)",
      "\u001b[0;32m<ipython-input-75-a13d30fd4e2e>\u001b[0m in \u001b[0;36m<module>\u001b[0;34m\u001b[0m\n\u001b[1;32m      4\u001b[0m \u001b[0;34m\u001b[0m\u001b[0m\n\u001b[1;32m      5\u001b[0m \u001b[0;32mfor\u001b[0m \u001b[0mi\u001b[0m \u001b[0;32min\u001b[0m \u001b[0mrange\u001b[0m\u001b[0;34m(\u001b[0m\u001b[0mlen\u001b[0m\u001b[0;34m(\u001b[0m\u001b[0malpha\u001b[0m\u001b[0;34m)\u001b[0m\u001b[0;34m)\u001b[0m\u001b[0;34m:\u001b[0m\u001b[0;34m\u001b[0m\u001b[0;34m\u001b[0m\u001b[0m\n\u001b[0;32m----> 6\u001b[0;31m     \u001b[0mr_0\u001b[0m\u001b[0;34m,\u001b[0m \u001b[0mr_1\u001b[0m\u001b[0;34m,\u001b[0m \u001b[0mxyz_0\u001b[0m\u001b[0;34m,\u001b[0m \u001b[0mxyz_1\u001b[0m \u001b[0;34m=\u001b[0m \u001b[0msix_d_metropolis\u001b[0m\u001b[0;34m(\u001b[0m\u001b[0malpha\u001b[0m\u001b[0;34m[\u001b[0m\u001b[0mi\u001b[0m\u001b[0;34m]\u001b[0m\u001b[0;34m,\u001b[0m \u001b[0;36m5000\u001b[0m \u001b[0;34m,\u001b[0m\u001b[0;36m5\u001b[0m\u001b[0;34m)\u001b[0m\u001b[0;34m\u001b[0m\u001b[0;34m\u001b[0m\u001b[0m\n\u001b[0m\u001b[1;32m      7\u001b[0m     \u001b[0mr0_unit\u001b[0m\u001b[0;34m,\u001b[0m \u001b[0mr1_unit\u001b[0m \u001b[0;34m=\u001b[0m \u001b[0mcalc_unit_vecors\u001b[0m\u001b[0;34m(\u001b[0m\u001b[0mxyz_0\u001b[0m\u001b[0;34m,\u001b[0m \u001b[0mxyz_1\u001b[0m\u001b[0;34m)\u001b[0m\u001b[0;34m\u001b[0m\u001b[0;34m\u001b[0m\u001b[0m\n\u001b[1;32m      8\u001b[0m     \u001b[0mr1_r2\u001b[0m\u001b[0;34m,\u001b[0m \u001b[0mr12\u001b[0m \u001b[0;34m=\u001b[0m \u001b[0mcalc_diff_vectors\u001b[0m\u001b[0;34m(\u001b[0m\u001b[0mr_0\u001b[0m\u001b[0;34m,\u001b[0m \u001b[0mr_1\u001b[0m\u001b[0;34m)\u001b[0m\u001b[0;34m\u001b[0m\u001b[0;34m\u001b[0m\u001b[0m\n",
      "\u001b[0;31mTypeError\u001b[0m: six_d_metropolis() takes 2 positional arguments but 3 were given"
     ]
    }
   ],
   "source": [
    "alpha = np.linspace(0.05, 0.25, 10)\n",
    "dim = 3\n",
    "E_local = np.zeros(len(alpha))\n",
    "E = np.zeros(len(alpha))\n",
    "\n",
    "for i in range(len(alpha)):\n",
    "    r_0, r_1, xyz_0, xyz_1 = six_d_metropolis(alpha[i], 5000 ,5)\n",
    "    r0_unit, r1_unit = calc_unit_vecors(xyz_0, xyz_1)\n",
    "    r1_r2, r12 = calc_diff_vectors(r_0, r_1)\n",
    "    E_local[i] = E_loc(alpha[i], r0_unit, r1_unit, r1_r2, r12)\n",
    "    E[i] = expectation_value(E_local)\n",
    "    \n",
    "    \n",
    "\n",
    "alpha = 0.1\n",
    "dim = 3\n",
    "E_local = np.zeros(len(alpha))\n",
    "\n",
    "\n",
    "r_0, r_1, xyz_0, xyz_1 = six_d_metropolis(5000,5)\n",
    "r0_unit, r1_unit = calc_unit_vecors(xyz_0, xyz_1)\n",
    "r1_r2, r12 = calc_diff_vectors(xyz_0, xyz_1)\n",
    "E_local = E_loc(alpha, r0_unit, r1_unit, r1_r2, r12)\n",
    "E = expectation_value(E_local)\n",
    "\n",
    "\n"
   ]
  },
  {
   "cell_type": "code",
   "execution_count": 83,
   "metadata": {},
   "outputs": [
    {
     "name": "stdout",
     "output_type": "stream",
     "text": [
      "[-3.97051262 -3.96102858 -3.95726364 -3.95521085 -3.95498115 -3.95430837\n",
      " -3.95401657 -3.95378112 -3.95378352 -3.95325321]\n"
     ]
    }
   ],
   "source": [
    "print(E)"
   ]
  },
  {
   "cell_type": "code",
   "execution_count": null,
   "metadata": {},
   "outputs": [],
   "source": []
  }
 ],
 "metadata": {
  "kernelspec": {
   "display_name": "Python 3",
   "language": "python",
   "name": "python3"
  },
  "language_info": {
   "codemirror_mode": {
    "name": "ipython",
    "version": 3
   },
   "file_extension": ".py",
   "mimetype": "text/x-python",
   "name": "python",
   "nbconvert_exporter": "python",
   "pygments_lexer": "ipython3",
   "version": "3.6.7"
  }
 },
 "nbformat": 4,
 "nbformat_minor": 2
}
