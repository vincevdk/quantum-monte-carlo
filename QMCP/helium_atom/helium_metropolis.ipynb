{
 "cells": [
  {
   "cell_type": "code",
   "execution_count": 9,
   "metadata": {},
   "outputs": [
    {
     "ename": "NameError",
     "evalue": "name 'r_0' is not defined",
     "output_type": "error",
     "traceback": [
      "\u001b[0;31m---------------------------------------------------------------------------\u001b[0m",
      "\u001b[0;31mNameError\u001b[0m                                 Traceback (most recent call last)",
      "\u001b[0;32m<ipython-input-9-bb3255e66838>\u001b[0m in \u001b[0;36m<module>\u001b[0;34m\u001b[0m\n\u001b[1;32m     50\u001b[0m \u001b[0mwalker1\u001b[0m\u001b[0;34m,\u001b[0m \u001b[0mwalker2\u001b[0m\u001b[0;34m,\u001b[0m \u001b[0mxyz_0\u001b[0m\u001b[0;34m,\u001b[0m \u001b[0mxyz_1\u001b[0m \u001b[0;34m=\u001b[0m \u001b[0msix_d_metropolis\u001b[0m\u001b[0;34m(\u001b[0m\u001b[0;36m5000\u001b[0m\u001b[0;34m,\u001b[0m\u001b[0;36m5\u001b[0m\u001b[0;34m)\u001b[0m\u001b[0;34m\u001b[0m\u001b[0;34m\u001b[0m\u001b[0m\n\u001b[1;32m     51\u001b[0m \u001b[0;34m\u001b[0m\u001b[0m\n\u001b[0;32m---> 52\u001b[0;31m \u001b[0mprint\u001b[0m\u001b[0;34m(\u001b[0m\u001b[0mr_0\u001b[0m\u001b[0;34m.\u001b[0m\u001b[0mshape\u001b[0m\u001b[0;34m)\u001b[0m\u001b[0;34m\u001b[0m\u001b[0;34m\u001b[0m\u001b[0m\n\u001b[0m",
      "\u001b[0;31mNameError\u001b[0m: name 'r_0' is not defined"
     ]
    }
   ],
   "source": [
    "import numpy as np\n",
    "from QMCP.functions import vmc\n",
    "import matplotlib.pyplot as plt\n",
    "\n",
    "\n",
    "def function(alpha, r1, r2, r):\n",
    "    return(np.exp(-2*r1 - 2*r2 + r/(2*(1+alpha*r))))\n",
    "\n",
    "def E_loc(alpha, r1_unit, r2_unit, r1_r2, r):\n",
    "    return(-4 + np.dot((r1_unit - r2_unit), r1_r2) * 1/(r*(1+alpha*r)**2) - 1/(r*(1+alpha*r)**3) - 1/(4*(1+alpha*r)**4) + 1/r)\n",
    "\n",
    "def six_d_metropolis(N, n_walkers):\n",
    "    \n",
    "    x = np.zeros((2,N,n_walkers))\n",
    "    xyz0 = np.zeros((dim,n_walkers,N))\n",
    "    xyz1 = np.zeros((dim,n_walkers,N))\n",
    "    xyz0[:,:,0] = np.random.rand(dim,n_walkers)\n",
    "    xyz1[:,:,0] = np.random.rand(dim,n_walkers)\n",
    "    x[0,0,:] = np.linalg.norm(xyz0[:,:,0], axis = 0)\n",
    "    x[0,0,:] = np.linalg.norm(xyz1[:,:,0], axis = 0)\n",
    "    trial_displacement = np.zeros((2,dim,n_walkers))\n",
    "    \n",
    "    for i in range(N):\n",
    "        xyz_trial_0 = xyz0[:,:,i] + (0.2*(np.random.rand(dim,n_walkers)*4-2))\n",
    "        xyz_trial_1 = xyz1[:,:,i] + (0.2*(np.random.rand(dim,n_walkers)*4-2))\n",
    "        r0 = np.linalg.norm(xyz_trial_0, axis=0)\n",
    "        r1 = np.linalg.norm(xyz_trial_1, axis=0)\n",
    "        r_12 = np.linalg.norm(xyz_trial_0 - xyz_trial_1, axis = 0)\n",
    "        ratio = function(alpha, r0, r1, r_12) / function(alpha, x[0,i-1,:], x[1,i-1,:], np.linalg.norm(xyz0[:,:,i]-xyz1[:,:,i], axis = 0))\n",
    "        eta = np.random.uniform(0,1,size = n_walkers)\n",
    "        x[0,i,:] = np.where(ratio >= 1, r0, (np.where(eta < ratio, r0, x[0,i-1,:]))) \n",
    "        x[1,i,:] = np.where(ratio >= 1, r1, (np.where(eta < ratio, r0, x[0,i-1,:]))) \n",
    "        xyz0[:,:,i] = np.where(ratio >= 1, xyz_trial_0,(np.where(eta < ratio, xyz_trial_0, xyz0[:,:,i-1])))\n",
    "        xyz1[:,:,i] = np.where(ratio >= 1, xyz_trial_1,(np.where(eta < ratio, xyz_trial_1, xyz1[:,:,i-1])))\n",
    "        \n",
    "    r_0 = np.reshape(x[0,1000:,:], n_walkers*N - (n_walkers * 1000))\n",
    "    r_1 = np.reshape(x[1,1000:,:], n_walkers*N - (n_walkers * 1000))\n",
    "    xyz0 = np.reshape(xyz0[:,:,1000:], (3,n_walkers*N - (n_walkers * 1000)) )\n",
    "    xyz1 = np.reshape(xyz1[:,:,1000:], (3,n_walkers*N - (n_walkers * 1000)) )\n",
    "   \n",
    "    r_0 = np.where(abs(r_0)<0.005, 0.1 , r_0)\n",
    "    r_1 = np.where(abs(r_1)<0.005, 0.1 , r_1)\n",
    "    return(r_0, r_1, xyz0, xyz1)\n",
    "\n",
    "def calc_unit_vecors():\n",
    "    r0_unit = xyz_0 / np.l\n",
    "\n",
    "alpha = 1\n",
    "dim = 3\n",
    "walker1, walker2, xyz_0, xyz_1 = six_d_metropolis(5000,5)\n",
    "\n",
    "print(r_0.shape)"
   ]
  },
  {
   "cell_type": "code",
   "execution_count": 8,
   "metadata": {},
   "outputs": [
    {
     "name": "stdout",
     "output_type": "stream",
     "text": [
      "[ 0.33659785  0.46561221  0.37355334 ...,  0.3776667   0.41278809\n",
      "  0.19667127]\n",
      "[ 0.33659785  0.37801477  0.49940826 ...,  0.39422081  0.06597958\n",
      "  0.19667127]\n"
     ]
    }
   ],
   "source": [
    "x = np.linalg.norm(xyz_0, axis = 0)\n",
    "print(x)\n",
    "print(walker1)"
   ]
  },
  {
   "cell_type": "code",
   "execution_count": 109,
   "metadata": {},
   "outputs": [
    {
     "name": "stdout",
     "output_type": "stream",
     "text": [
      "[[ 0.44671271  0.63508895  0.78579858  0.68561608]\n",
      " [ 0.77274892  0.27178438  0.45165792  0.62519822]\n",
      " [ 0.85600371  0.34215701  0.49808745  0.61579452]]\n",
      "[ 0.44671271  0.63508895  0.78579858  0.68561608  0.77274892  0.27178438\n",
      "  0.45165792  0.62519822  0.85600371  0.34215701  0.49808745  0.61579452]\n"
     ]
    }
   ],
   "source": []
  },
  {
   "cell_type": "code",
   "execution_count": null,
   "metadata": {},
   "outputs": [],
   "source": []
  }
 ],
 "metadata": {
  "kernelspec": {
   "display_name": "Python 3",
   "language": "python",
   "name": "python3"
  },
  "language_info": {
   "codemirror_mode": {
    "name": "ipython",
    "version": 3
   },
   "file_extension": ".py",
   "mimetype": "text/x-python",
   "name": "python",
   "nbconvert_exporter": "python",
   "pygments_lexer": "ipython3",
   "version": "3.6.7"
  }
 },
 "nbformat": 4,
 "nbformat_minor": 2
}
