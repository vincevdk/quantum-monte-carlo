{
 "cells": [
  {
   "cell_type": "code",
   "execution_count": 121,
   "metadata": {},
   "outputs": [],
   "source": [
    "import numpy as np\n",
    "from QMCP.functions import vmc\n",
    "import matplotlib.pyplot as plt\n",
    "\n",
    "\n",
    "def function(alpha, r1, r2, r):\n",
    "    return(np.exp(-2*r1 - 2*r2 + r/(2*(1+alpha*r))))\n",
    "\n",
    "def E_loc(alpha, r1_unit, r2_unit, r1_r2, r):\n",
    "    return(-4 + np.dot((r1_unit - r2_unit), r1_r2) * 1/(r*(1+alpha*r)**2) - 1/(r*(1+alpha*r)**3) - 1/(4*(1+alpha*r)**4) + 1/r)\n",
    "\n",
    "def six_d_metropolis(N, n_walkers):\n",
    "    \n",
    "    x = np.zeros((2,N,n_walkers))\n",
    "    displacement = np.random.rand(2,dim,n_walkers)\n",
    "    x[:,0,:] = np.linalg.norm(displacement, axis = 1)\n",
    "    trial_displacement = np.zeros((2,N,n_walkers))\n",
    "    \n",
    "    for i in range(N):\n",
    "        trial_displacement[i] = displacement + (0.2*(np.random.rand(2,dim,n_walkers)*4-2))\n",
    "        x_trial_0 = np.linalg.norm(trial_displacement[0,:,:], axis=0)\n",
    "        x_trial_1 = np.linalg.norm(trial_displacement[1,:,:], axis=0)\n",
    "        x_trial_difference = np.linalg.norm(trial_displacement[0,:,:] - trial_displacement[1,:,:], axis = 0)\n",
    "        r = function(alpha, x_trial_0, x_trial_1, x_trial_difference) / function(alpha, x[0,i-1,:], x[1,i-1,:], np.linalg.norm(displacement[0,:,:]-displacement[1,:,:]))\n",
    "        eta = np.random.uniform(0,1,size = n_walkers)\n",
    "        x[0,i,:] = np.where(r >= 1, x_trial_0, (np.where(eta < r, x_trial_0, x[0,i-1,:]))) \n",
    "        x[1,i,:] = np.where(r >= 1, x_trial_1, (np.where(eta < r, x_trial_1, x[0,i-1,:]))) \n",
    "        displacement = np.where(r>=1, trial_displacement,(np.where(eta < r, trial_displacement, displacement)))\n",
    "        \n",
    "    x0 = np.reshape(x[0,1000:,:], n_walkers*N - (n_walkers * 1000))\n",
    "    x1 = np.reshape(x[1,1000:,:], n_walkers*N - (n_walkers * 1000))\n",
    "    \n",
    "    x0 = np.where(abs(x0)<0.005, 0.1 , x0)\n",
    "    x1 = np.where(abs(x1)<0.005, 0.1 , x1)\n",
    "    return(x0, x1)\n",
    "\n",
    "alpha = 1\n",
    "walker1, walker2 = six_d_metropolis(5000,5)\n"
   ]
  },
  {
   "cell_type": "code",
   "execution_count": 134,
   "metadata": {},
   "outputs": [
    {
     "name": "stdout",
     "output_type": "stream",
     "text": [
      "(20000,)\n"
     ]
    },
    {
     "data": {
      "text/plain": [
       "[<matplotlib.lines.Line2D at 0x7ffb30fbfa20>]"
      ]
     },
     "execution_count": 134,
     "metadata": {},
     "output_type": "execute_result"
    },
    {
     "data": {
      "image/png": "[encoded data removed]",
      "text/plain": [
       "<Figure size 432x288 with 1 Axes>"
      ]
     },
     "metadata": {
      "needs_background": "light"
     },
     "output_type": "display_data"
    }
   ],
   "source": [
    "import matplotlib.pyplot as plt\n",
    "n = np.linspace(-5,5,len(walker1))\n",
    "print(walker1.shape)\n",
    "\n",
    "plt.figure()\n",
    "plt.plot(n,walker1)"
   ]
  },
  {
   "cell_type": "code",
   "execution_count": 109,
   "metadata": {},
   "outputs": [
    {
     "name": "stdout",
     "output_type": "stream",
     "text": [
      "[[ 0.44671271  0.63508895  0.78579858  0.68561608]\n",
      " [ 0.77274892  0.27178438  0.45165792  0.62519822]\n",
      " [ 0.85600371  0.34215701  0.49808745  0.61579452]]\n",
      "[ 0.44671271  0.63508895  0.78579858  0.68561608  0.77274892  0.27178438\n",
      "  0.45165792  0.62519822  0.85600371  0.34215701  0.49808745  0.61579452]\n"
     ]
    }
   ],
   "source": []
  },
  {
   "cell_type": "code",
   "execution_count": null,
   "metadata": {},
   "outputs": [],
   "source": []
  }
 ],
 "metadata": {
  "kernelspec": {
   "display_name": "Python 3",
   "language": "python",
   "name": "python3"
  },
  "language_info": {
   "codemirror_mode": {
    "name": "ipython",
    "version": 3
   },
   "file_extension": ".py",
   "mimetype": "text/x-python",
   "name": "python",
   "nbconvert_exporter": "python",
   "pygments_lexer": "ipython3",
   "version": "3.6.7"
  }
 },
 "nbformat": 4,
 "nbformat_minor": 2
}
