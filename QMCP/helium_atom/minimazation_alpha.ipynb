{
 "cells": [
  {
   "cell_type": "code",
   "execution_count": 17,
   "metadata": {},
   "outputs": [
    {
     "name": "stdout",
     "output_type": "stream",
     "text": [
      "0.240109735362 alpha\n",
      "0.229996778005 alpha\n",
      "0.221247142937 alpha\n",
      "0.213550446648 alpha\n",
      "0.205885157345 alpha\n",
      "0.199597640092 alpha\n",
      "0.193262428297 alpha\n",
      "0.186820518207 alpha\n",
      "0.182379683481 alpha\n",
      "0.177852220889 alpha\n",
      "0.174082838926 alpha\n",
      "0.169926163517 alpha\n",
      "0.167028721158 alpha\n",
      "0.164683075849 alpha\n",
      "0.162692622454 alpha\n",
      "0.160161464408 alpha\n",
      "0.157172543008 alpha\n",
      "0.155608301934 alpha\n",
      "0.153918589629 alpha\n",
      "0.15223088371 alpha\n",
      "0.150681303991 alpha\n",
      "0.148340091153 alpha\n",
      "0.14799051063 alpha\n",
      "0.147807266142 alpha\n",
      "0.1471713746 alpha\n",
      "0.1469607066 alpha\n",
      "0.14692374118 alpha\n",
      "minimum alpha =  0.14692374118\n",
      "ground state energy = -2.87719351999\n"
     ]
    },
    {
     "data": {
      "image/png": "[encoded data removed]",
      "text/plain": [
       "<Figure size 432x288 with 1 Axes>"
      ]
     },
     "metadata": {
      "needs_background": "light"
     },
     "output_type": "display_data"
    }
   ],
   "source": [
    "import numpy as np\n",
    "import matplotlib.pyplot as plt\n",
    "\n",
    "def six_d_metropolis(alpha, N, n_walkers):\n",
    "    rn = np.zeros((dim, N, n_walkers))\n",
    "    r = np.random.randn(dim, n_walkers)\n",
    "    \n",
    "    for i in range(N):\n",
    "        r_trial = r + (0.1*np.random.randn(dim, n_walkers))\n",
    "        ratio = (trial_wave_function(alpha, r_trial) / trial_wave_function(alpha, r))**2\n",
    "        eta = np.random.uniform(0,1,(dim,n_walkers))\n",
    "        rn[:,i,:] = np.where(ratio >= 1, r_trial, (np.where(eta < ratio, r_trial, r)))\n",
    "        r = np.where(ratio >= 1, r_trial, (np.where(eta < ratio, r_trial, r)))\n",
    "    rn = rn[:,k:,:]\n",
    "\n",
    "    return(rn)\n",
    "\n",
    "def trial_wave_function(alpha, r):\n",
    "    r1 = np.linalg.norm(r[:3,:], axis = 0)\n",
    "    r2 = np.linalg.norm(r[3:,:], axis = 0)\n",
    "    r12 = np.linalg.norm(r[:3,:]-r[3:,:], axis = 0)\n",
    "    trial_wave = np.exp(-2*r1 - 2*r2 + r12/(2*(1+alpha*r12)))\n",
    "    return(trial_wave)\n",
    "\n",
    "def calc_Eloc(alpha, r):\n",
    "    r1_unit = r[:3,:,:] / np.linalg.norm(r[:3,:,:], axis = 0)\n",
    "    r2_unit = r[3:,:,:] / np.linalg.norm(r[3:,:,:], axis = 0)\n",
    "    r12_unit = r1_unit - r2_unit\n",
    "    r12 = np.linalg.norm(r[:3,:,:] - r[3:,:,:], axis = 0)\n",
    "    E_loc = -4 + np.sum(r12_unit * (r[:3,:,:] - r[3:,:,:]), axis = 0) * 1/(r12*(1+alpha*r12)**2) - 1/(r12*(1+alpha*r12)**3) - 1/(4*(1+alpha*r12)**4) + 1/r12\n",
    "    return(E_loc)\n",
    "\n",
    "def der_ln_twf(alpha, r):\n",
    "    r12 = np.linalg.norm(r[:3,:]-r[3:,:], axis = 0)\n",
    "    d_ln_twf = r12**2/(-2*(1+alpha*r12))\n",
    "    return(d_ln_twf)\n",
    "\n",
    "def derivative_E(alpha):\n",
    "    prob_dens = six_d_metropolis(alpha, 30000, 30)\n",
    "    E = calc_Eloc(alpha, prob_dens)\n",
    "    E_ground = np.mean(E)\n",
    "    deriv_E = 2*(np.mean(E*der_ln_twf(alpha, prob_dens) - E_ground*np.mean(der_ln_twf(alpha, prob_dens))))\n",
    "    return(deriv_E, E_ground)\n",
    "\n",
    "def minimazation_alpha():\n",
    "    gamma = 0.1\n",
    "    tol = 0.0001\n",
    "    max_it = 1000\n",
    "    alpha_min = 0.25\n",
    "    difference = 0.5\n",
    "    i = 0\n",
    "    E_ground = []\n",
    "    alpha_array = []\n",
    "    alpha_array.append(alpha_min)\n",
    "\n",
    "    while abs(difference) >= tol and i < max_it:\n",
    "        keep = alpha_min\n",
    "        der_E, E_ground = derivative_E(alpha_min)\n",
    "        alpha_min = alpha_min - gamma * der_E\n",
    "        alpha_array.append(alpha_min)\n",
    "        difference = alpha_min - keep\n",
    "        print(alpha_min, 'alpha')\n",
    "        i += 1\n",
    "\n",
    "    print(\"minimum alpha = \", alpha_min)\n",
    "    return(alpha_array, E_ground)\n",
    "\n",
    "dim = 6\n",
    "k = 4000\n",
    "alpha, E_ground = minimazation_alpha()\n",
    "\n",
    "print('ground state energy =', E_ground)\n",
    "\n",
    "steps = np.linspace(0,len(alpha),len(alpha))\n",
    "\n",
    "plt.title('minimization of alpha')\n",
    "plt.plot(steps,alpha, 'ro')\n",
    "plt.show()\n"
   ]
  },
  {
   "cell_type": "code",
   "execution_count": 12,
   "metadata": {},
   "outputs": [
    {
     "name": "stdout",
     "output_type": "stream",
     "text": [
      "0.143126354301\n"
     ]
    }
   ],
   "source": [
    "print(alpha[-1])"
   ]
  },
  {
   "cell_type": "code",
   "execution_count": null,
   "metadata": {},
   "outputs": [],
   "source": []
  }
 ],
 "metadata": {
  "kernelspec": {
   "display_name": "Python 3",
   "language": "python",
   "name": "python3"
  },
  "language_info": {
   "codemirror_mode": {
    "name": "ipython",
    "version": 3
   },
   "file_extension": ".py",
   "mimetype": "text/x-python",
   "name": "python",
   "nbconvert_exporter": "python",
   "pygments_lexer": "ipython3",
   "version": "3.6.7"
  }
 },
 "nbformat": 4,
 "nbformat_minor": 2
}
