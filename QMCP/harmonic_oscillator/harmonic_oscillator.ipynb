{
 "cells": [
  {
   "cell_type": "code",
   "execution_count": 3,
   "metadata": {},
   "outputs": [],
   "source": [
    "import numpy as np\n",
    "\n",
    "class Oscillator:\n",
    "    def __init__(self, dimension):\n",
    "        self.dimension = dimension\n",
    "        \n",
    "\n",
    "    def trial_wave_function(self, alpha, R):\n",
    "        \"\"\"\n",
    "        parametrised (trial)wave function of a quantum system\n",
    "\n",
    "        Parameters\n",
    "        ----------\n",
    "        R: int\n",
    "           variable input, position of the oscillator\n",
    "        alpha: \n",
    "           variable input, \n",
    "        Results\n",
    "        -------   \n",
    "        np.exp(- alpha * R**2): function with two variables\n",
    "        \"\"\"\n",
    "\n",
    "        return(np.exp(- alpha * R**2))\n",
    "\n",
    "    def E_loc(self,alpha, R):\n",
    "        \"\"\"\n",
    "        Local energy is a function that depends on the positions of the particles\n",
    "        and alpha. It is constant if ψT is the exact eigenfunction of \n",
    "        the Hamiltonian.\n",
    "        Parameters\n",
    "        ----------\n",
    "        alpha: int\n",
    "            variable input, is being changed to find the minimal energy\n",
    "        R: int\n",
    "           variable input, position of the oscillator\n",
    "        Results\n",
    "        -------\n",
    "        E_loc: function with two variables\n",
    "        \"\"\"\n",
    "        E_loc = (alpha + (R**2)*(0.5 - 2*alpha**2))\n",
    "        E_loc = np.reshape(E_loc, E_loc.shape[1])\n",
    "        return(E_loc)\n",
    "\n",
    "    def der_ln_twf(self,alpha,R):\n",
    "        \"\"\"alpha derivative of the natural logarithm of the trial wave function, \n",
    "        needed to calculate the alpha derivative of the energy\n",
    "        Parameters\n",
    "        ----------\n",
    "        R: int\n",
    "            variable input, position of the oscillator\n",
    "    \n",
    "        Results\n",
    "        -------\n",
    "        -R**2: function with one variable\n",
    "        \"\"\"\n",
    "        return(-R**2)\n"
   ]
  },
  {
   "cell_type": "code",
   "execution_count": 5,
   "metadata": {},
   "outputs": [
    {
     "name": "stdout",
     "output_type": "stream",
     "text": [
      "[ 0.18653762  1.13935864  1.13847132 ...,  0.19623568  0.75647262\n",
      "  1.05296486] E_loc\n",
      "[ 0.2065803   0.21393868  0.57679485 ...,  0.24561201  0.2223617\n",
      "  0.22043283] E_loc\n",
      "[ 0.32234092  0.91998879  1.62774356 ...,  0.81086993  0.30020765\n",
      "  0.31296773] E_loc\n",
      "[ 0.55689965  0.51847357  0.40395163 ...,  0.42800609  0.69872406\n",
      "  0.44742942] E_loc\n",
      "[ 0.5  0.5  0.5 ...,  0.5  0.5  0.5] E_loc\n",
      "[ 0.59999524  0.55228105  0.15429006 ...,  0.59126818  0.57727489\n",
      "  0.47584736] E_loc\n",
      "[ 0.69791914  0.69281642  0.6958588  ..., -0.4266815   0.69974141  0.6768    ] E_loc\n",
      "[ 0.67615013  0.59771047  0.41090944 ...,  0.78221761  0.79198422\n",
      "  0.17678005] E_loc\n",
      "[ 0.89359054  0.88719814  0.37355009 ...,  0.85224515  0.43104248\n",
      "  0.35211042] E_loc\n",
      "[ 0.86004879  0.99182433  0.63024087 ...,  0.93546882  0.98701471\n",
      "  0.41370817] E_loc\n",
      "[ 1.09964424  0.91501632  0.69698927 ...,  0.97988367  0.7365644\n",
      "  0.60709519] E_loc\n",
      "[ 1.19993215 -0.55474388  1.13397472 ...,  0.75969543  0.73770779\n",
      "  0.18517087] E_loc\n",
      "[ 1.18963128  1.15513755  1.13013589 ...,  0.86975003  0.73575661\n",
      "  1.08584208] E_loc\n",
      "[ 1.36681329  1.3935563   1.30085947 ..., -3.83209555  1.39498673\n",
      "  1.33673059] E_loc\n",
      "[-0.98518127  0.15491166  1.10612952 ...,  1.4153519   1.49998839\n",
      "  1.13095051] E_loc\n",
      "[ 1.36572908  1.06506937  0.58035827 ...,  1.29335888  0.96039524\n",
      "  1.17629047] E_loc\n",
      "[ 1.42219736  1.6911279   1.04729336 ...,  0.20353927  1.64691383\n",
      "  1.62458768] E_loc\n",
      "[ 1.28166065  0.22810149  1.36575033 ...,  1.52889904  1.67551641\n",
      "  0.93851038] E_loc\n",
      "[ 1.29968457  1.85447997  0.15523537 ..., -2.82798218  0.86822095\n",
      "  1.37416854] E_loc\n",
      "[ 1.30740441  0.72769456  0.5677642   0.51323654  0.5         0.5088658\n",
      "  0.52875228  0.55673676  0.58670193  0.62458061  0.66205428  0.70476698\n",
      "  0.74973882  0.78763911  0.83264596  0.87826219  0.92176653  0.97213338\n",
      "  1.01372469]\n"
     ]
    },
    {
     "data": {
      "image/png": "[encoded data removed]",
      "text/plain": [
       "<Figure size 432x288 with 1 Axes>"
      ]
     },
     "metadata": {
      "needs_background": "light"
     },
     "output_type": "display_data"
    },
    {
     "data": {
      "image/png": "[encoded data removed]",
      "text/plain": [
       "<Figure size 432x288 with 1 Axes>"
      ]
     },
     "metadata": {
      "needs_background": "light"
     },
     "output_type": "display_data"
    }
   ],
   "source": [
    "import numpy as np\n",
    "from QMCP.functions import vmc\n",
    "import matplotlib.pyplot as plt\n",
    "from QMCP.harmonic_oscillator import Oscillator\n",
    "from QMCP.functions import bootstrap\n",
    "\n",
    "N = 30000\n",
    "n_walkers = 400\n",
    "\n",
    "alpha = np.arange(0.1, 2, 0.1)\n",
    "oscillator = Oscillator(1)\n",
    "E_ground, E_ground_error, variance, var_error = vmc(alpha, oscillator, N, n_walkers)\n",
    "\n",
    "print(E_ground)\n",
    "plt.figure()\n",
    "plt.errorbar(alpha, E_ground, yerr=E_ground_error)\n",
    "#plt.plot(alpha, E_ground)\n",
    "plt.title('ground state energy')\n",
    "\n",
    "plt.figure()\n",
    "plt.errorbar(alpha, variance, yerr=var_error)\n",
    "#plt.plot(alpha, variance)\n",
    "plt.title('variance')\n",
    "plt.show()\n"
   ]
  },
  {
   "cell_type": "code",
   "execution_count": 7,
   "metadata": {},
   "outputs": [
    {
     "name": "stdout",
     "output_type": "stream",
     "text": [
      "-1.58799002347e+13 alpha\n",
      "4.26504570041e+40 alpha\n",
      "3.7866659638e+95 alpha\n",
      "2.93653113336e+205 alpha\n",
      "nan alpha\n",
      "minimum alpha =  nan\n"
     ]
    },
    {
     "data": {
      "image/png": "[encoded data removed]",
      "text/plain": [
       "<Figure size 432x288 with 1 Axes>"
      ]
     },
     "metadata": {
      "needs_background": "light"
     },
     "output_type": "display_data"
    }
   ],
   "source": [
    "import numpy as np\n",
    "import matplotlib.pyplot as plt\n",
    "from QMCP.functions import minimization_alpha\n",
    "from QMCP.harmonic_oscillator import Oscillator\n",
    "\n",
    "N = 30000\n",
    "n_walkers = 400\n",
    "\n",
    "oscillator = Oscillator(1)\n",
    "alpha = minimization_alpha(oscillator, N, n_walkers)\n",
    "\n",
    "steps = np.linspace(0,len(alpha),len(alpha))\n",
    "\n",
    "plt.title('minimization of alpha')\n",
    "plt.plot(steps,alpha, 'ro')\n",
    "plt.show()\n"
   ]
  },
  {
   "cell_type": "code",
   "execution_count": null,
   "metadata": {},
   "outputs": [],
   "source": []
  },
  {
   "cell_type": "code",
   "execution_count": null,
   "metadata": {},
   "outputs": [],
   "source": []
  }
 ],
 "metadata": {
  "kernelspec": {
   "display_name": "Python 3",
   "language": "python",
   "name": "python3"
  },
  "language_info": {
   "codemirror_mode": {
    "name": "ipython",
    "version": 3
   },
   "file_extension": ".py",
   "mimetype": "text/x-python",
   "name": "python",
   "nbconvert_exporter": "python",
   "pygments_lexer": "ipython3",
   "version": "3.6.7"
  }
 },
 "nbformat": 4,
 "nbformat_minor": 2
}
