{
 "cells": [
  {
   "cell_type": "code",
   "execution_count": 1,
   "metadata": {},
   "outputs": [],
   "source": [
    "import numpy as np\n",
    "\n",
    "class Oscillator:\n",
    "    def __init__(self, dimension):\n",
    "        self.dimension = dimension\n",
    "        \n",
    "\n",
    "    def trial_wave_function(self, alpha, R):\n",
    "        \"\"\"\n",
    "        parametrised (trial)wave function of a quantum system\n",
    "\n",
    "        Parameters\n",
    "        ----------\n",
    "        R: int\n",
    "           variable input, position of the oscillator\n",
    "        alpha: \n",
    "           variable input, \n",
    "        Results\n",
    "        -------   \n",
    "        np.exp(- alpha * R**2): function with two variables\n",
    "        \"\"\"\n",
    "\n",
    "        return(np.exp(- alpha * R**2))\n",
    "\n",
    "    def E_loc(self,alpha, R):\n",
    "        \"\"\"\n",
    "        Local energy is a function that depends on the positions of the particles\n",
    "        and alpha. It is constant if ψT is the exact eigenfunction of \n",
    "        the Hamiltonian.\n",
    "        Parameters\n",
    "        ----------\n",
    "        alpha: int\n",
    "            variable input, is being changed to find the minimal energy\n",
    "        R: int\n",
    "           variable input, position of the oscillator\n",
    "        Results\n",
    "        -------\n",
    "        E_loc: function with two variables\n",
    "        \"\"\"\n",
    "\n",
    "        return(alpha + (R**2)*(0.5 - 2*alpha**2))\n",
    "\n",
    "    def der_ln_twf(self,R):\n",
    "        \"\"\"alpha derivative of the natural logarithm of the trial wave function, \n",
    "        needed to calculate the alpha derivative of the energy\n",
    "        Parameters\n",
    "        ----------\n",
    "        R: int\n",
    "            variable input, position of the oscillator\n",
    "    \n",
    "        Results\n",
    "        -------\n",
    "        -R**2: function with one variable\n",
    "        \"\"\"\n",
    "        return(-R**2)\n"
   ]
  },
  {
   "cell_type": "code",
   "execution_count": 9,
   "metadata": {},
   "outputs": [
    {
     "name": "stdout",
     "output_type": "stream",
     "text": [
      "1.15614042802 alpha\n",
      "1.11452403467 alpha\n",
      "1.07504338086 alpha\n"
     ]
    },
    {
     "ename": "KeyboardInterrupt",
     "evalue": "",
     "output_type": "error",
     "traceback": [
      "\u001b[0;31m---------------------------------------------------------------------------\u001b[0m",
      "\u001b[0;31mKeyboardInterrupt\u001b[0m                         Traceback (most recent call last)",
      "\u001b[0;32m<ipython-input-9-e970e91bd1c1>\u001b[0m in \u001b[0;36m<module>\u001b[0;34m\u001b[0m\n\u001b[1;32m      5\u001b[0m \u001b[0;34m\u001b[0m\u001b[0m\n\u001b[1;32m      6\u001b[0m \u001b[0moscillator\u001b[0m \u001b[0;34m=\u001b[0m \u001b[0mOscillator\u001b[0m\u001b[0;34m(\u001b[0m\u001b[0;36m1\u001b[0m\u001b[0;34m)\u001b[0m\u001b[0;34m\u001b[0m\u001b[0;34m\u001b[0m\u001b[0m\n\u001b[0;32m----> 7\u001b[0;31m \u001b[0malpha\u001b[0m \u001b[0;34m=\u001b[0m \u001b[0mminimization_alpha\u001b[0m\u001b[0;34m(\u001b[0m\u001b[0moscillator\u001b[0m\u001b[0;34m)\u001b[0m\u001b[0;34m\u001b[0m\u001b[0;34m\u001b[0m\u001b[0m\n\u001b[0m\u001b[1;32m      8\u001b[0m \u001b[0;34m\u001b[0m\u001b[0m\n\u001b[1;32m      9\u001b[0m \u001b[0msteps\u001b[0m \u001b[0;34m=\u001b[0m \u001b[0mnp\u001b[0m\u001b[0;34m.\u001b[0m\u001b[0mlinspace\u001b[0m\u001b[0;34m(\u001b[0m\u001b[0;36m0\u001b[0m\u001b[0;34m,\u001b[0m\u001b[0mlen\u001b[0m\u001b[0;34m(\u001b[0m\u001b[0malpha\u001b[0m\u001b[0;34m)\u001b[0m\u001b[0;34m,\u001b[0m\u001b[0mlen\u001b[0m\u001b[0;34m(\u001b[0m\u001b[0malpha\u001b[0m\u001b[0;34m)\u001b[0m\u001b[0;34m)\u001b[0m\u001b[0;34m\u001b[0m\u001b[0;34m\u001b[0m\u001b[0m\n",
      "\u001b[0;32m~/project2/Project_2/QMCP/functions/minimal_energy_finder.py\u001b[0m in \u001b[0;36mminimization_alpha\u001b[0;34m(quantum_system)\u001b[0m\n\u001b[1;32m     54\u001b[0m         \u001b[0malpha_array\u001b[0m\u001b[0;34m.\u001b[0m\u001b[0mappend\u001b[0m\u001b[0;34m(\u001b[0m\u001b[0malpha_min\u001b[0m\u001b[0;34m)\u001b[0m\u001b[0;34m\u001b[0m\u001b[0;34m\u001b[0m\u001b[0m\n\u001b[1;32m     55\u001b[0m         \u001b[0mdifference\u001b[0m \u001b[0;34m=\u001b[0m \u001b[0malpha_min\u001b[0m \u001b[0;34m-\u001b[0m \u001b[0mkeep\u001b[0m\u001b[0;34m\u001b[0m\u001b[0;34m\u001b[0m\u001b[0m\n\u001b[0;32m---> 56\u001b[0;31m         \u001b[0mprint\u001b[0m\u001b[0;34m(\u001b[0m\u001b[0malpha_min\u001b[0m\u001b[0;34m,\u001b[0m \u001b[0;34m'alpha'\u001b[0m\u001b[0;34m)\u001b[0m\u001b[0;34m\u001b[0m\u001b[0;34m\u001b[0m\u001b[0m\n\u001b[0m\u001b[1;32m     57\u001b[0m         \u001b[0mi\u001b[0m \u001b[0;34m+=\u001b[0m \u001b[0;36m1\u001b[0m\u001b[0;34m\u001b[0m\u001b[0;34m\u001b[0m\u001b[0m\n\u001b[1;32m     58\u001b[0m \u001b[0;34m\u001b[0m\u001b[0m\n",
      "\u001b[0;32m~/project2/Project_2/QMCP/functions/minimal_energy_finder.py\u001b[0m in \u001b[0;36mderivative_E\u001b[0;34m(alpha, quantum_system)\u001b[0m\n\u001b[1;32m      9\u001b[0m     \u001b[0mf\u001b[0m \u001b[0;34m=\u001b[0m \u001b[0;32mlambda\u001b[0m \u001b[0mR\u001b[0m\u001b[0;34m:\u001b[0m \u001b[0mquantum_system\u001b[0m\u001b[0;34m.\u001b[0m\u001b[0mtrial_wave_function\u001b[0m\u001b[0;34m(\u001b[0m\u001b[0malpha\u001b[0m\u001b[0;34m,\u001b[0m \u001b[0mR\u001b[0m\u001b[0;34m)\u001b[0m\u001b[0;34m\u001b[0m\u001b[0;34m\u001b[0m\u001b[0m\n\u001b[1;32m     10\u001b[0m     \u001b[0mprob_dens\u001b[0m \u001b[0;34m=\u001b[0m \u001b[0mmetropolis\u001b[0m\u001b[0;34m(\u001b[0m\u001b[0mf\u001b[0m\u001b[0;34m,\u001b[0m\u001b[0;36m30000\u001b[0m\u001b[0;34m,\u001b[0m\u001b[0;36m40\u001b[0m\u001b[0;34m)\u001b[0m\u001b[0;34m\u001b[0m\u001b[0;34m\u001b[0m\u001b[0m\n\u001b[0;32m---> 11\u001b[0;31m     \u001b[0mE\u001b[0m \u001b[0;34m=\u001b[0m \u001b[0mquantum_system\u001b[0m\u001b[0;34m.\u001b[0m\u001b[0mE_loc\u001b[0m\u001b[0;34m(\u001b[0m\u001b[0malpha\u001b[0m\u001b[0;34m,\u001b[0m \u001b[0mprob_dens\u001b[0m\u001b[0;34m)\u001b[0m\u001b[0;34m\u001b[0m\u001b[0;34m\u001b[0m\u001b[0m\n\u001b[0m\u001b[1;32m     12\u001b[0m     \u001b[0mE_ground\u001b[0m \u001b[0;34m=\u001b[0m \u001b[0mexpectation_value\u001b[0m\u001b[0;34m(\u001b[0m\u001b[0mE\u001b[0m\u001b[0;34m)\u001b[0m\u001b[0;34m\u001b[0m\u001b[0;34m\u001b[0m\u001b[0m\n\u001b[1;32m     13\u001b[0m     \u001b[0mderiv_E\u001b[0m \u001b[0;34m=\u001b[0m \u001b[0;36m2\u001b[0m\u001b[0;34m*\u001b[0m\u001b[0;34m(\u001b[0m\u001b[0mexpectation_value\u001b[0m\u001b[0;34m(\u001b[0m\u001b[0mE\u001b[0m\u001b[0;34m*\u001b[0m\u001b[0mquantum_system\u001b[0m\u001b[0;34m.\u001b[0m\u001b[0mder_ln_twf\u001b[0m\u001b[0;34m(\u001b[0m\u001b[0malpha\u001b[0m\u001b[0;34m,\u001b[0m \u001b[0mprob_dens\u001b[0m\u001b[0;34m)\u001b[0m \u001b[0;34m-\u001b[0m \u001b[0mE_ground\u001b[0m\u001b[0;34m*\u001b[0m\u001b[0mexpectation_value\u001b[0m\u001b[0;34m(\u001b[0m\u001b[0mquantum_system\u001b[0m\u001b[0;34m.\u001b[0m\u001b[0mder_ln_twf\u001b[0m\u001b[0;34m(\u001b[0m\u001b[0malpha\u001b[0m\u001b[0;34m,\u001b[0m\u001b[0mprob_dens\u001b[0m\u001b[0;34m)\u001b[0m\u001b[0;34m)\u001b[0m\u001b[0;34m)\u001b[0m\u001b[0;34m)\u001b[0m\u001b[0;34m\u001b[0m\u001b[0;34m\u001b[0m\u001b[0m\n",
      "\u001b[0;32m~/project2/Project_2/QMCP/functions/metropolis_algorithm.py\u001b[0m in \u001b[0;36mone_d_metropolis\u001b[0;34m(function, N, n_walkers)\u001b[0m\n\u001b[1;32m     13\u001b[0m         \u001b[0mr\u001b[0m \u001b[0;34m=\u001b[0m \u001b[0mnp\u001b[0m\u001b[0;34m.\u001b[0m\u001b[0mwhere\u001b[0m\u001b[0;34m(\u001b[0m\u001b[0mratio\u001b[0m \u001b[0;34m>=\u001b[0m \u001b[0;36m1\u001b[0m\u001b[0;34m,\u001b[0m \u001b[0mr_trial\u001b[0m\u001b[0;34m,\u001b[0m \u001b[0;34m(\u001b[0m\u001b[0mnp\u001b[0m\u001b[0;34m.\u001b[0m\u001b[0mwhere\u001b[0m\u001b[0;34m(\u001b[0m\u001b[0meta\u001b[0m \u001b[0;34m<\u001b[0m \u001b[0mratio\u001b[0m\u001b[0;34m,\u001b[0m \u001b[0mr_trial\u001b[0m\u001b[0;34m,\u001b[0m \u001b[0mr\u001b[0m\u001b[0;34m)\u001b[0m\u001b[0;34m)\u001b[0m\u001b[0;34m)\u001b[0m\u001b[0;34m\u001b[0m\u001b[0;34m\u001b[0m\u001b[0m\n\u001b[1;32m     14\u001b[0m \u001b[0;34m\u001b[0m\u001b[0m\n\u001b[0;32m---> 15\u001b[0;31m     \u001b[0mrn\u001b[0m \u001b[0;34m=\u001b[0m \u001b[0mnp\u001b[0m\u001b[0;34m.\u001b[0m\u001b[0mreshape\u001b[0m\u001b[0;34m(\u001b[0m\u001b[0mrn\u001b[0m\u001b[0;34m[\u001b[0m\u001b[0;34m:\u001b[0m\u001b[0;34m,\u001b[0m\u001b[0;36m4000\u001b[0m\u001b[0;34m:\u001b[0m\u001b[0;34m,\u001b[0m\u001b[0;34m:\u001b[0m\u001b[0;34m]\u001b[0m\u001b[0;34m,\u001b[0m \u001b[0;34m(\u001b[0m\u001b[0mdim\u001b[0m\u001b[0;34m,\u001b[0m\u001b[0mn_walkers\u001b[0m\u001b[0;34m*\u001b[0m\u001b[0mN\u001b[0m \u001b[0;34m-\u001b[0m \u001b[0;34m(\u001b[0m\u001b[0mn_walkers\u001b[0m \u001b[0;34m*\u001b[0m \u001b[0;36m4000\u001b[0m\u001b[0;34m)\u001b[0m\u001b[0;34m)\u001b[0m\u001b[0;34m)\u001b[0m\u001b[0;34m\u001b[0m\u001b[0;34m\u001b[0m\u001b[0m\n\u001b[0m\u001b[1;32m     16\u001b[0m \u001b[0;34m\u001b[0m\u001b[0m\n\u001b[1;32m     17\u001b[0m     \u001b[0;32mreturn\u001b[0m\u001b[0;34m(\u001b[0m\u001b[0mrn\u001b[0m\u001b[0;34m)\u001b[0m\u001b[0;34m\u001b[0m\u001b[0;34m\u001b[0m\u001b[0m\n",
      "\u001b[0;31mKeyboardInterrupt\u001b[0m: "
     ]
    }
   ],
   "source": [
    "import numpy as np\n",
    "import matplotlib.pyplot as plt\n",
    "from QMCP.functions import minimization_alpha\n",
    "from QMCP.harmonic_oscillator import Oscillator\n",
    "\n",
    "oscillator = Oscillator(1)\n",
    "alpha = minimization_alpha(oscillator)\n",
    "\n",
    "steps = np.linspace(0,len(alpha),len(alpha))\n",
    "\n",
    "plt.title('minimization of alpha')\n",
    "plt.plot(steps,alpha, 'ro')\n",
    "plt.show()\n"
   ]
  },
  {
   "cell_type": "code",
   "execution_count": 11,
   "metadata": {},
   "outputs": [
    {
     "name": "stdout",
     "output_type": "stream",
     "text": [
      "[ 1.93400032  0.2219254   0.16894299 ...,  2.37736189  3.51985362\n",
      "  0.66219422] E_loc\n",
      "[ 0.35878     0.21640062  0.61108835 ...,  1.28982259  0.50954604\n",
      "  1.01417094] E_loc\n",
      "[ 0.49877794  0.47276882  0.58404251 ...,  0.41013448  0.45771294\n",
      "  0.31532935] E_loc\n",
      "[ 0.4509864   0.40004139  0.49437262 ...,  0.40125824  0.50931074\n",
      "  0.45263743] E_loc\n",
      "[ 0.5  0.5  0.5 ...,  0.5  0.5  0.5] E_loc\n",
      "[ 0.50961769  0.51449302  0.56708869 ...,  0.45880665  0.47665071\n",
      "  0.59995123] E_loc\n",
      "[ 0.54364091  0.46847163  0.69999207 ...,  0.66539577  0.67739236\n",
      "  0.6099831 ] E_loc\n",
      "[ 0.7715605   0.39930993  0.72212831 ...,  0.77113503  0.689468    0.45275007] E_loc\n",
      "[ 0.88041555  0.5771877   0.86591423 ...,  0.88506269  0.8458748\n",
      "  0.63059909] E_loc\n",
      "[ 0.83408189  0.99700906  0.76338128 ..., -0.66119882 -0.32186287\n",
      "  0.60829758] E_loc\n",
      "[ 0.7299107   0.85156337  1.09547178 ...,  1.09522543  1.06735685\n",
      "  0.95974039] E_loc\n",
      "[ 0.76951575  1.04110445  0.63773309 ...,  1.06476943  1.01653598\n",
      "  1.09067917] E_loc\n",
      "[-1.35322509 -3.30797093  1.22955161 ...,  1.26652937  0.97640108\n",
      "  1.27746468] E_loc\n",
      "[ 1.31935159 -0.13571493  0.20829435 ...,  1.1651704   0.04181934\n",
      "  0.13165072] E_loc\n",
      "[ 0.4698211   1.43319576  0.68646309 ...,  1.33853058  0.66149129\n",
      "  0.98145102] E_loc\n",
      "[-0.44823796  1.59981779  1.59731154 ...,  1.50808807  0.3525223\n",
      "  1.50003754] E_loc\n",
      "[ 1.66726907  1.69997049  1.69168196 ...,  1.29945904 -0.68728585\n",
      "  1.01628219] E_loc\n",
      "[-1.97883513  0.14271428  0.25885701 ...,  1.75518525  1.69322021\n",
      "  0.48700008] E_loc\n",
      "[ 1.49570315 -2.10022498  1.7674969  ...,  0.31181035 -1.5154468\n",
      "  1.88193827] E_loc\n",
      "[ 1.31873924  0.71297963  0.56994042  0.51176383  0.5         0.50831846\n",
      "  0.53194572  0.54916014  0.58887941  0.62271329  0.66115396  0.69891409\n",
      "  0.74242711  0.78853893  0.83283002  0.87141975  0.93110134  0.95826098\n",
      "  1.01356069]\n"
     ]
    },
    {
     "data": {
      "image/png": "[encoded data removed]",
      "text/plain": [
       "<Figure size 432x288 with 1 Axes>"
      ]
     },
     "metadata": {
      "needs_background": "light"
     },
     "output_type": "display_data"
    },
    {
     "data": {
      "image/png": "[encoded data removed]",
      "text/plain": [
       "<Figure size 432x288 with 1 Axes>"
      ]
     },
     "metadata": {
      "needs_background": "light"
     },
     "output_type": "display_data"
    }
   ],
   "source": [
    "import numpy as np\n",
    "from QMCP.functions import vmc\n",
    "import matplotlib.pyplot as plt\n",
    "from QMCP.harmonic_oscillator import Oscillator\n",
    "from QMCP.functions import bootstrap\n",
    "\n",
    "alpha = np.arange(0.1, 2, 0.1)\n",
    "oscillator = Oscillator(1)\n",
    "dim = oscillator.dimension\n",
    "E_ground, E_ground_error, variance = (vmc(alpha, oscillator))\n",
    "\n",
    "print(E_ground)\n",
    "plt.figure()\n",
    "plt.errorbar(alpha, E_ground, yerr=E_ground_error)\n",
    "#plt.plot(alpha, E_ground)\n",
    "plt.title('ground state energy')\n",
    "\n",
    "plt.figure()\n",
    "plt.plot(alpha, variance)\n",
    "plt.title('variance')\n",
    "plt.show()\n"
   ]
  },
  {
   "cell_type": "code",
   "execution_count": null,
   "metadata": {},
   "outputs": [],
   "source": []
  }
 ],
 "metadata": {
  "kernelspec": {
   "display_name": "Python 3",
   "language": "python",
   "name": "python3"
  },
  "language_info": {
   "codemirror_mode": {
    "name": "ipython",
    "version": 3
   },
   "file_extension": ".py",
   "mimetype": "text/x-python",
   "name": "python",
   "nbconvert_exporter": "python",
   "pygments_lexer": "ipython3",
   "version": "3.6.7"
  }
 },
 "nbformat": 4,
 "nbformat_minor": 2
}
